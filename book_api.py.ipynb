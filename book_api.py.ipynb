{
 "cells": [
  {
   "cell_type": "code",
   "execution_count": null,
   "id": "983e3b7c-607a-47aa-b973-2b5a084b8d9f",
   "metadata": {},
   "outputs": [],
   "source": [
    "from flask import Flask, jsonify, request\n",
    "\n",
    "app = Flask(__name__)\n",
    "\n",
    "# In-memory database for books\n",
    "books = []\n",
    "\n",
    "# Create a new book\n",
    "@app.route('/books', methods=['POST'])\n",
    "def add_book():\n",
    "    book = {\n",
    "        'id': len(books) + 1,\n",
    "        'book_name': request.json['book_name'],\n",
    "        'author': request.json['author'],\n",
    "        'publisher': request.json['publisher']\n",
    "    }\n",
    "    books.append(book)\n",
    "    return jsonify(book), 201\n",
    "\n",
    "# Get all books\n",
    "@app.route('/books', methods=['GET'])\n",
    "def get_books():\n",
    "    return jsonify(books), 200\n",
    "\n",
    "# Get a book by ID\n",
    "@app.route('/books/<int:id>', methods=['GET'])\n",
    "def get_book(id):\n",
    "    book = next((b for b in books if b['id'] == id), None)\n",
    "    if book:\n",
    "        return jsonify(book), 200\n",
    "    return jsonify({'error': 'Book not found'}), 404\n",
    "\n",
    "# Update a book by ID\n",
    "@app.route('/books/<int:id>', methods=['PUT'])\n",
    "def update_book(id):\n",
    "    book = next((b for b in books if b['id'] == id), None)\n",
    "    if not book:\n",
    "        return jsonify({'error': 'Book not found'}), 404\n",
    "\n",
    "    book['book_name'] = request.json.get('book_name', book['book_name'])\n",
    "    book['author'] = request.json.get('author', book['author'])\n",
    "    book['publisher'] = request.json.get('publisher', book['publisher'])\n",
    "    return jsonify(book), 200\n",
    "\n",
    "# Delete a book by ID\n",
    "@app.route('/books/<int:id>', methods=['DELETE'])\n",
    "def delete_book(id):\n",
    "    global books\n",
    "    books = [b for b in books if b['id'] != id]\n",
    "    return jsonify({'message': 'Book deleted'}), 200\n",
    "\n",
    "if __name__ == '__main__':\n",
    "    app.run(debug=True)\n"
   ]
  }
 ],
 "metadata": {
  "kernelspec": {
   "display_name": "Python [conda env:base] *",
   "language": "python",
   "name": "conda-base-py"
  },
  "language_info": {
   "codemirror_mode": {
    "name": "ipython",
    "version": 3
   },
   "file_extension": ".py",
   "mimetype": "text/x-python",
   "name": "python",
   "nbconvert_exporter": "python",
   "pygments_lexer": "ipython3",
   "version": "3.12.7"
  }
 },
 "nbformat": 4,
 "nbformat_minor": 5
}
